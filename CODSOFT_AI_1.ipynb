{
 "cells": [
  {
   "cell_type": "code",
   "execution_count": 1,
   "id": "4c53fbe6-5696-448e-bcd2-b26808adb60f",
   "metadata": {},
   "outputs": [
    {
     "name": "stdout",
     "output_type": "stream",
     "text": [
      "🤖 Chatbot: Hello! I am your friendly chatbot. Type 'bye' to exit.\n"
     ]
    },
    {
     "name": "stdin",
     "output_type": "stream",
     "text": [
      "You:  HI\n"
     ]
    },
    {
     "name": "stdout",
     "output_type": "stream",
     "text": [
      "🤖 Chatbot: Hey! How can I help you?\n"
     ]
    },
    {
     "name": "stdin",
     "output_type": "stream",
     "text": [
      "You:  HOW ARE YOU\n"
     ]
    },
    {
     "name": "stdout",
     "output_type": "stream",
     "text": [
      "🤖 Chatbot: All good here! How about you?\n"
     ]
    },
    {
     "name": "stdin",
     "output_type": "stream",
     "text": [
      "You:  IM FINE COULD YOU HELP ME WITH A FEW QUESTIONS?\n"
     ]
    },
    {
     "name": "stdout",
     "output_type": "stream",
     "text": [
      "🤖 Chatbot: You can ask me about time, date, weather, jokes, or just say hello!\n"
     ]
    },
    {
     "name": "stdin",
     "output_type": "stream",
     "text": [
      "You:  TELL ME A JOKE\n"
     ]
    },
    {
     "name": "stdout",
     "output_type": "stream",
     "text": [
      "🤖 Chatbot: Why was the math book sad? Because it had too many problems.\n"
     ]
    },
    {
     "name": "stdin",
     "output_type": "stream",
     "text": [
      "You:  MORE\n"
     ]
    },
    {
     "name": "stdout",
     "output_type": "stream",
     "text": [
      "🤖 Chatbot: Hmm... I don't understand that yet. Try asking something else.\n"
     ]
    },
    {
     "name": "stdin",
     "output_type": "stream",
     "text": [
      "You:  BYE\n"
     ]
    },
    {
     "name": "stdout",
     "output_type": "stream",
     "text": [
      "🤖 Chatbot: Goodbye! Take care 😊\n"
     ]
    }
   ],
   "source": [
    "import re\n",
    "import random\n",
    "import datetime\n",
    "\n",
    "def chatbot():\n",
    "    print(\"🤖 Chatbot: Hello! I am your friendly chatbot. Type 'bye' to exit.\")\n",
    "\n",
    "    while True:\n",
    "        user_input = input(\"You: \").lower()\n",
    "\n",
    "        # Exit condition\n",
    "        if user_input == \"bye\":\n",
    "            print(\"🤖 Chatbot: Goodbye! Take care 😊\")\n",
    "            break\n",
    "\n",
    "        # 1. Greetings\n",
    "        elif re.search(r\"\\b(hi|hello|hey)\\b\", user_input):\n",
    "            responses = [\n",
    "                \"Hello there! 👋\",\n",
    "                \"Hey! How can I help you?\",\n",
    "                \"Hi! Nice to see you here.\"\n",
    "            ]\n",
    "            print(\"🤖 Chatbot:\", random.choice(responses))\n",
    "\n",
    "        # 2. Asking about the chatbot\n",
    "        elif \"your name\" in user_input:\n",
    "            print(\"🤖 Chatbot: I am a simple chatbot created with Python.\")\n",
    "\n",
    "        elif \"who created you\" in user_input:\n",
    "            print(\"🤖 Chatbot: I was created by a human who loves coding! 💻\")\n",
    "\n",
    "        # 3. How are you\n",
    "        elif \"how are you\" in user_input:\n",
    "            responses = [\n",
    "                \"I'm just code, but I'm doing great! 😃\",\n",
    "                \"All good here! How about you?\",\n",
    "                \"I’m fantastic! Thanks for asking.\"\n",
    "            ]\n",
    "            print(\"🤖 Chatbot:\", random.choice(responses))\n",
    "\n",
    "        # 4. Time and Date\n",
    "        elif \"time\" in user_input:\n",
    "            now = datetime.datetime.now().strftime(\"%H:%M:%S\")\n",
    "            print(f\"🤖 Chatbot: The current time is {now}\")\n",
    "\n",
    "        elif \"date\" in user_input:\n",
    "            today = datetime.date.today().strftime(\"%B %d, %Y\")\n",
    "            print(f\"🤖 Chatbot: Today's date is {today}\")\n",
    "\n",
    "        # 5. Weather (fake response for demo)\n",
    "        elif \"weather\" in user_input:\n",
    "            responses = [\n",
    "                \"It’s always sunny in my virtual world! ☀️\",\n",
    "                \"I don’t have weather sensors, but I hope it’s nice outside!\",\n",
    "                \"Cloudy with a chance of bugs 🐞\"\n",
    "            ]\n",
    "            print(\"🤖 Chatbot:\", random.choice(responses))\n",
    "\n",
    "        # 6. Jokes\n",
    "        elif \"joke\" in user_input:\n",
    "            jokes = [\n",
    "                \"Why don’t programmers like nature? It has too many bugs! 😂\",\n",
    "                \"What do you call 8 hobbits? A hobbyte. 😆\",\n",
    "                \"Why was the math book sad? Because it had too many problems.\"\n",
    "            ]\n",
    "            print(\"🤖 Chatbot:\", random.choice(jokes))\n",
    "\n",
    "        # 7. Help\n",
    "        elif \"help\" in user_input:\n",
    "            print(\"🤖 Chatbot: You can ask me about time, date, weather, jokes, or just say hello!\")\n",
    "\n",
    "        # 8. Fallback\n",
    "        else:\n",
    "            print(\"🤖 Chatbot: Hmm... I don't understand that yet. Try asking something else.\")\n",
    "\n",
    "# Run the chatbot\n",
    "chatbot()"
   ]
  }
 ],
 "metadata": {
  "kernelspec": {
   "display_name": "Python 3 (ipykernel)",
   "language": "python",
   "name": "python3"
  },
  "language_info": {
   "codemirror_mode": {
    "name": "ipython",
    "version": 3
   },
   "file_extension": ".py",
   "mimetype": "text/x-python",
   "name": "python",
   "nbconvert_exporter": "python",
   "pygments_lexer": "ipython3",
   "version": "3.12.4"
  }
 },
 "nbformat": 4,
 "nbformat_minor": 5
}
