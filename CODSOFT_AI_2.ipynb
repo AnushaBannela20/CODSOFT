{
 "cells": [
  {
   "cell_type": "code",
   "execution_count": 1,
   "id": "32c34cce-4ed1-42f1-ae9b-bacc22b005e7",
   "metadata": {},
   "outputs": [
    {
     "name": "stdout",
     "output_type": "stream",
     "text": [
      "Welcome to Tic-Tac-Toe! You are X, AI is O.\n",
      " | | \n",
      "-----\n",
      " | | \n",
      "-----\n",
      " | | \n",
      "-----\n"
     ]
    },
    {
     "name": "stdin",
     "output_type": "stream",
     "text": [
      "Enter row (0-2):  0\n",
      "Enter col (0-2):  0\n"
     ]
    },
    {
     "name": "stdout",
     "output_type": "stream",
     "text": [
      "X| | \n",
      "-----\n",
      " | | \n",
      "-----\n",
      " | | \n",
      "-----\n",
      "\n",
      "AI played:\n",
      "X| | \n",
      "-----\n",
      " |O| \n",
      "-----\n",
      " | | \n",
      "-----\n"
     ]
    },
    {
     "name": "stdin",
     "output_type": "stream",
     "text": [
      "Enter row (0-2):  1\n",
      "Enter col (0-2):  0\n"
     ]
    },
    {
     "name": "stdout",
     "output_type": "stream",
     "text": [
      "X| | \n",
      "-----\n",
      "X|O| \n",
      "-----\n",
      " | | \n",
      "-----\n",
      "\n",
      "AI played:\n",
      "X| | \n",
      "-----\n",
      "X|O| \n",
      "-----\n",
      "O| | \n",
      "-----\n"
     ]
    },
    {
     "name": "stdin",
     "output_type": "stream",
     "text": [
      "Enter row (0-2):  0\n",
      "Enter col (0-2):  2\n"
     ]
    },
    {
     "name": "stdout",
     "output_type": "stream",
     "text": [
      "X| |X\n",
      "-----\n",
      "X|O| \n",
      "-----\n",
      "O| | \n",
      "-----\n",
      "\n",
      "AI played:\n",
      "X|O|X\n",
      "-----\n",
      "X|O| \n",
      "-----\n",
      "O| | \n",
      "-----\n"
     ]
    },
    {
     "name": "stdin",
     "output_type": "stream",
     "text": [
      "Enter row (0-2):  2\n",
      "Enter col (0-2):  2\n"
     ]
    },
    {
     "name": "stdout",
     "output_type": "stream",
     "text": [
      "X|O|X\n",
      "-----\n",
      "X|O| \n",
      "-----\n",
      "O| |X\n",
      "-----\n",
      "\n",
      "AI played:\n",
      "X|O|X\n",
      "-----\n",
      "X|O| \n",
      "-----\n",
      "O|O|X\n",
      "-----\n",
      "😈 AI wins! Better luck next time.\n"
     ]
    }
   ],
   "source": [
    "import math\n",
    "\n",
    "# Print the Tic-Tac-Toe board\n",
    "def print_board(board):\n",
    "    for row in board:\n",
    "        print(\"|\".join(row))\n",
    "        print(\"-\" * 5)\n",
    "\n",
    "# Check if a player has won\n",
    "def check_winner(board, player):\n",
    "    # Rows, columns, diagonals\n",
    "    for row in board:\n",
    "        if all([cell == player for cell in row]):\n",
    "            return True\n",
    "\n",
    "    for col in range(3):\n",
    "        if all([board[row][col] == player for row in range(3)]):\n",
    "            return True\n",
    "\n",
    "    if all([board[i][i] == player for i in range(3)]) or \\\n",
    "       all([board[i][2 - i] == player for i in range(3)]):\n",
    "        return True\n",
    "\n",
    "    return False\n",
    "\n",
    "# Check if the board is full (draw)\n",
    "def is_full(board):\n",
    "    return all([cell != \" \" for row in board for cell in row])\n",
    "\n",
    "# Minimax Algorithm\n",
    "def minimax(board, depth, is_maximizing):\n",
    "    if check_winner(board, \"O\"):\n",
    "        return 1\n",
    "    if check_winner(board, \"X\"):\n",
    "        return -1\n",
    "    if is_full(board):\n",
    "        return 0\n",
    "\n",
    "    if is_maximizing:  # AI's turn (O)\n",
    "        best_score = -math.inf\n",
    "        for i in range(3):\n",
    "            for j in range(3):\n",
    "                if board[i][j] == \" \":\n",
    "                    board[i][j] = \"O\"\n",
    "                    score = minimax(board, depth + 1, False)\n",
    "                    board[i][j] = \" \"\n",
    "                    best_score = max(best_score, score)\n",
    "        return best_score\n",
    "    else:  # Human's turn (X)\n",
    "        best_score = math.inf\n",
    "        for i in range(3):\n",
    "            for j in range(3):\n",
    "                if board[i][j] == \" \":\n",
    "                    board[i][j] = \"X\"\n",
    "                    score = minimax(board, depth + 1, True)\n",
    "                    board[i][j] = \" \"\n",
    "                    best_score = min(best_score, score)\n",
    "        return best_score\n",
    "\n",
    "# Best move for AI\n",
    "def best_move(board):\n",
    "    best_score = -math.inf\n",
    "    move = None\n",
    "    for i in range(3):\n",
    "        for j in range(3):\n",
    "            if board[i][j] == \" \":\n",
    "                board[i][j] = \"O\"\n",
    "                score = minimax(board, 0, False)\n",
    "                board[i][j] = \" \"\n",
    "                if score > best_score:\n",
    "                    best_score = score\n",
    "                    move = (i, j)\n",
    "    return move\n",
    "\n",
    "# Main game loop\n",
    "def play_game():\n",
    "    board = [[\" \" for _ in range(3)] for _ in range(3)]\n",
    "    print(\"Welcome to Tic-Tac-Toe! You are X, AI is O.\")\n",
    "    print_board(board)\n",
    "\n",
    "    while True:\n",
    "        # Human move\n",
    "        row = int(input(\"Enter row (0-2): \"))\n",
    "        col = int(input(\"Enter col (0-2): \"))\n",
    "\n",
    "        if board[row][col] != \" \":\n",
    "            print(\"Cell already taken. Try again.\")\n",
    "            continue\n",
    "\n",
    "        board[row][col] = \"X\"\n",
    "        print_board(board)\n",
    "\n",
    "        if check_winner(board, \"X\"):\n",
    "            print(\"🎉 You win!\")\n",
    "            break\n",
    "        if is_full(board):\n",
    "            print(\"It's a draw!\")\n",
    "            break\n",
    "\n",
    "        # AI move\n",
    "        ai_row, ai_col = best_move(board)\n",
    "        board[ai_row][ai_col] = \"O\"\n",
    "        print(\"\\nAI played:\")\n",
    "        print_board(board)\n",
    "\n",
    "        if check_winner(board, \"O\"):\n",
    "            print(\"😈 AI wins! Better luck next time.\")\n",
    "            break\n",
    "        if is_full(board):\n",
    "            print(\"It's a draw!\")\n",
    "            break\n",
    "\n",
    "# Run the game\n",
    "play_game()\n"
   ]
  }
 ],
 "metadata": {
  "kernelspec": {
   "display_name": "Python 3 (ipykernel)",
   "language": "python",
   "name": "python3"
  },
  "language_info": {
   "codemirror_mode": {
    "name": "ipython",
    "version": 3
   },
   "file_extension": ".py",
   "mimetype": "text/x-python",
   "name": "python",
   "nbconvert_exporter": "python",
   "pygments_lexer": "ipython3",
   "version": "3.12.4"
  }
 },
 "nbformat": 4,
 "nbformat_minor": 5
}
