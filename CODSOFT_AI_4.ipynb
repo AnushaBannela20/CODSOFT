{
 "cells": [
  {
   "cell_type": "code",
   "execution_count": 6,
   "id": "ce08f9c1-9233-4884-b9a5-deae423dbf2d",
   "metadata": {},
   "outputs": [
    {
     "name": "stdout",
     "output_type": "stream",
     "text": [
      "Recommendations for User A: ['Inception', 'Interstellar', 'Memento']\n"
     ]
    }
   ],
   "source": [
    "import pandas as pd\n",
    "from sklearn.metrics.pairwise import cosine_similarity\n",
    "\n",
    "# Sample user-movie ratings dataset\n",
    "data = {\n",
    "    \"User\": [\"A\", \"A\", \"A\", \"B\", \"B\", \"C\", \"C\"],\n",
    "    \"Movie\": [\"Inception\", \"Interstellar\", \"Memento\", \"Inception\", \"Memento\", \"Interstellar\", \"Tenet\"],\n",
    "    \"Rating\": [5, 4, 5, 4, 3, 5, 4]\n",
    "}\n",
    "\n",
    "df = pd.DataFrame(data)\n",
    "\n",
    "# Create User-Item Matrix\n",
    "user_item_matrix = df.pivot_table(index=\"User\", columns=\"Movie\", values=\"Rating\").fillna(0)\n",
    "\n",
    "# Collaborative Filtering: Find similarity between users\n",
    "user_similarity = cosine_similarity(user_item_matrix)\n",
    "user_similarity_df = pd.DataFrame(user_similarity, index=user_item_matrix.index, columns=user_item_matrix.index)\n",
    "\n",
    "# Function to recommend movies for a given user\n",
    "def recommend_movies(user):\n",
    "    similar_users = user_similarity_df[user].sort_values(ascending=False)\n",
    "    best_match = similar_users.index[1]  # most similar other user\n",
    "    recommendations = df[df[\"User\"] == best_match][\"Movie\"].tolist()\n",
    "    return recommendations\n",
    "\n",
    "# Example\n",
    "print(\"Recommendations for User A:\", recommend_movies(\"B\"))\n"
   ]
  },
  {
   "cell_type": "code",
   "execution_count": null,
   "id": "e3dfc809-5aba-4c5a-bfab-9485b8af422c",
   "metadata": {},
   "outputs": [],
   "source": []
  }
 ],
 "metadata": {
  "kernelspec": {
   "display_name": "Python 3 (ipykernel)",
   "language": "python",
   "name": "python3"
  },
  "language_info": {
   "codemirror_mode": {
    "name": "ipython",
    "version": 3
   },
   "file_extension": ".py",
   "mimetype": "text/x-python",
   "name": "python",
   "nbconvert_exporter": "python",
   "pygments_lexer": "ipython3",
   "version": "3.12.4"
  }
 },
 "nbformat": 4,
 "nbformat_minor": 5
}
