{
 "cells": [
  {
   "cell_type": "code",
   "execution_count": 19,
   "id": "a2da0bfe-42a7-4163-9e76-5bbd4617cbe1",
   "metadata": {},
   "outputs": [
    {
     "name": "stdout",
     "output_type": "stream",
     "text": [
      "Requirement already satisfied: opencv-contrib-python in c:\\users\\admin\\anaconda3\\lib\\site-packages (4.12.0.88)\n",
      "Requirement already satisfied: numpy<2.3.0,>=2 in c:\\users\\admin\\anaconda3\\lib\\site-packages (from opencv-contrib-python) (2.2.6)\n",
      "Note: you may need to restart the kernel to use updated packages.\n"
     ]
    }
   ],
   "source": [
    "pip install opencv-contrib-python"
   ]
  },
  {
   "cell_type": "code",
   "execution_count": 24,
   "id": "46729b30-205e-4ecd-beba-27a20068102e",
   "metadata": {},
   "outputs": [],
   "source": [
    "import cv2\n",
    "\n",
    "# -------- Step 1: Load Haar Cascade face detector --------\n",
    "face_cascade = cv2.CascadeClassifier(cv2.data.haarcascades + \"haarcascade_frontalface_default.xml\")\n",
    "\n",
    "# -------- Step 2: Load known face image --------\n",
    "# Convert to grayscale for Haar Cascade\n",
    "known_img = cv2.imread(\"sharukhkhan.jpg\")\n",
    "known_gray = cv2.cvtColor(known_img, cv2.COLOR_BGR2GRAY)\n",
    "known_faces = face_cascade.detectMultiScale(known_gray, 1.3, 5)\n",
    "\n",
    "# Take first detected face region as \"known\"\n",
    "(x, y, w, h) = known_faces[0]\n",
    "known_face_crop = known_gray[y:y+h, x:x+w]\n",
    "\n",
    "# -------- Step 3: Load test image --------\n",
    "test_img = cv2.imread(\"test.jpg\")\n",
    "test_gray = cv2.cvtColor(test_img, cv2.COLOR_BGR2GRAY)\n",
    "\n",
    "# Detect faces in test image\n",
    "faces = face_cascade.detectMultiScale(test_gray, 1.3, 5)\n",
    "\n",
    "for (x, y, w, h) in faces:\n",
    "    test_face_crop = test_gray[y:y+h, x:x+w]\n",
    "\n",
    "    # -------- Step 4: Fake recognition using histogram comparison --------\n",
    "    known_hist = cv2.calcHist([known_face_crop], [0], None, [256], [0, 256])\n",
    "    test_hist = cv2.calcHist([test_face_crop], [0], None, [256], [0, 256])\n",
    "\n",
    "    score = cv2.compareHist(known_hist, test_hist, cv2.HISTCMP_CORREL)\n",
    "\n",
    "    label = \"Unknown\"\n",
    "    if score > 0.9:  # Threshold for similarity\n",
    "        label = \"Known Person\"\n",
    "\n",
    "    # Draw box & label\n",
    "    cv2.rectangle(test_img, (x, y), (x+w, y+h), (0, 255, 0), 2)\n",
    "    cv2.putText(test_img, label, (x, y-10), cv2.FONT_HERSHEY_SIMPLEX, 0.9, (0, 255, 0), 2)\n",
    "\n",
    "# -------- Step 5: Show result --------\n",
    "cv2.imshow(\"Face Detection & Recognition\", test_img)\n",
    "cv2.waitKey(0)\n",
    "cv2.destroyAllWindows()"
   ]
  },
  {
   "cell_type": "code",
   "execution_count": null,
   "id": "62ed4303-a093-4cbb-91f5-9e3f7f3dd230",
   "metadata": {},
   "outputs": [],
   "source": []
  }
 ],
 "metadata": {
  "kernelspec": {
   "display_name": "Python 3 (ipykernel)",
   "language": "python",
   "name": "python3"
  },
  "language_info": {
   "codemirror_mode": {
    "name": "ipython",
    "version": 3
   },
   "file_extension": ".py",
   "mimetype": "text/x-python",
   "name": "python",
   "nbconvert_exporter": "python",
   "pygments_lexer": "ipython3",
   "version": "3.12.4"
  }
 },
 "nbformat": 4,
 "nbformat_minor": 5
}
